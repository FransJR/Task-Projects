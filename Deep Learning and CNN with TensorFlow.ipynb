{
 "cells": [
  {
   "cell_type": "code",
   "execution_count": 6,
   "metadata": {
    "id": "9n3kjm3Ziu_T"
   },
   "outputs": [],
   "source": [
    "import numpy as np\n",
    "import matplotlib.pyplot as plt\n",
    "import pandas as pd\n",
    "import tensorflow as tf\n",
    "import scipy\n",
    "from PIL import Image\n",
    "import random\n",
    "import os\n",
    "\n",
    "# mengatur ukuran universal gambar apapun yang diplot \n",
    "plt.rcParams['figure.figsize'] = (10.0, 10.0) \n",
    "%matplotlib inline"
   ]
  },
  {
   "cell_type": "code",
   "execution_count": 2,
   "metadata": {
    "colab": {
     "base_uri": "https://localhost:8080/"
    },
    "id": "V75masSvjQLa",
    "outputId": "db712a2b-dfd0-4761-bb53-4e8c5733f58a"
   },
   "outputs": [
    {
     "name": "stdout",
     "output_type": "stream",
     "text": [
      "--2021-04-23 02:27:06--  https://storage.googleapis.com/laurencemoroney-blog.appspot.com/horse-or-human.zip\n",
      "Resolving storage.googleapis.com (storage.googleapis.com)... 172.217.193.128, 172.217.204.128, 172.217.203.128, ...\n",
      "Connecting to storage.googleapis.com (storage.googleapis.com)|172.217.193.128|:443... connected.\n",
      "HTTP request sent, awaiting response... 200 OK\n",
      "Length: 149574867 (143M) [application/zip]\n",
      "Saving to: ‘horse-or-human.zip’\n",
      "\n",
      "horse-or-human.zip  100%[===================>] 142.65M   112MB/s    in 1.3s    \n",
      "\n",
      "2021-04-23 02:27:08 (112 MB/s) - ‘horse-or-human.zip’ saved [149574867/149574867]\n",
      "\n"
     ]
    }
   ],
   "source": [
    "# Mengunduh data\n",
    "!wget https://storage.googleapis.com/laurencemoroney-blog.appspot.com/horse-or-human.zip"
   ]
  },
  {
   "cell_type": "code",
   "execution_count": 3,
   "metadata": {
    "id": "ly7wRiz-jWmk"
   },
   "outputs": [],
   "source": [
    "%%capture\n",
    "!unzip \\*.zip -d train  && rm *.zip;"
   ]
  },
  {
   "cell_type": "code",
   "execution_count": 4,
   "metadata": {
    "id": "r8VPBlYwjWp4"
   },
   "outputs": [],
   "source": [
    "categories = [\"horse\", \"human\"] # isi dengan nama folder kategori yang berisi data \n",
    "def obtain_images_data(base_dir):\n",
    "    images = []\n",
    "    for i, category in enumerate(categories):\n",
    "        directory = base_dir + category + 's'\n",
    "        for item in os.listdir(directory):\n",
    "            fname = directory + \"/\" + item\n",
    "            image = Image.open(fname)\n",
    "            image = image.resize((64,64),Image.ANTIALIAS)\n",
    "            image_array = np.array(image)[:,:,:-1]\n",
    "            images.append((image_array, i))\n",
    "\n",
    "    # diacak dulu biar tidak bias\n",
    "    random.shuffle(images) # gunakan salah satu metode dari \"random\" \n",
    "    return images\n",
    "\n",
    "labeled_images = obtain_images_data('/content/train/')"
   ]
  },
  {
   "cell_type": "code",
   "execution_count": 5,
   "metadata": {
    "colab": {
     "base_uri": "https://localhost:8080/",
     "height": 302
    },
    "id": "8iNF1-ctjWtF",
    "outputId": "c931f0a2-7f4c-4faf-c346-d69bec9e6b3a"
   },
   "outputs": [
    {
     "name": "stdout",
     "output_type": "stream",
     "text": [
      "(64, 64, 3)\n",
      "Ini adalah gambar 'human'\n"
     ]
    },
    {
     "data": {
      "image/png": "[encoded data removed]",
      "text/plain": [
       "<Figure size 432x288 with 1 Axes>"
      ]
     },
     "metadata": {
      "needs_background": "light",
      "tags": []
     },
     "output_type": "display_data"
    }
   ],
   "source": [
    "# periksa salah satu gambar\n",
    "sample_image = labeled_images[-1]\n",
    "print(sample_image[0].shape)\n",
    "plt.imshow(sample_image[0])\n",
    "print(f\"Ini adalah gambar '{categories[sample_image[1]]}'\")"
   ]
  },
  {
   "cell_type": "code",
   "execution_count": 6,
   "metadata": {
    "colab": {
     "base_uri": "https://localhost:8080/"
    },
    "id": "WImgEmRDjWvy",
    "outputId": "5f7a4876-4e79-4e1f-fcf3-5cb28d940d0b"
   },
   "outputs": [
    {
     "data": {
      "text/plain": [
       "array([[[[ 22,  28,  33],\n",
       "         [ 22,  28,  33],\n",
       "         [ 22,  28,  33],\n",
       "         ...,\n",
       "         [242, 229, 209],\n",
       "         [232, 219, 201],\n",
       "         [233, 220, 201]],\n",
       "\n",
       "        [[ 22,  28,  34],\n",
       "         [ 22,  28,  34],\n",
       "         [ 23,  28,  34],\n",
       "         ...,\n",
       "         [222, 210, 191],\n",
       "         [218, 205, 187],\n",
       "         [219, 206, 188]],\n",
       "\n",
       "        [[ 23,  29,  35],\n",
       "         [ 23,  29,  35],\n",
       "         [ 23,  29,  36],\n",
       "         ...,\n",
       "         [211, 198, 180],\n",
       "         [215, 202, 185],\n",
       "         [219, 206, 188]],\n",
       "\n",
       "        ...,\n",
       "\n",
       "        [[167, 155, 139],\n",
       "         [170, 159, 143],\n",
       "         [173, 162, 145],\n",
       "         ...,\n",
       "         [205, 192, 173],\n",
       "         [226, 212, 193],\n",
       "         [217, 203, 184]],\n",
       "\n",
       "        [[171, 159, 143],\n",
       "         [169, 158, 142],\n",
       "         [170, 159, 143],\n",
       "         ...,\n",
       "         [210, 197, 178],\n",
       "         [204, 191, 173],\n",
       "         [203, 191, 172]],\n",
       "\n",
       "        [[166, 155, 139],\n",
       "         [167, 156, 140],\n",
       "         [174, 162, 146],\n",
       "         ...,\n",
       "         [160, 148, 132],\n",
       "         [163, 151, 135],\n",
       "         [170, 158, 140]]],\n",
       "\n",
       "\n",
       "       [[[255, 241, 205],\n",
       "         [245, 223, 192],\n",
       "         [222, 198, 170],\n",
       "         ...,\n",
       "         [255, 252, 201],\n",
       "         [255, 248, 199],\n",
       "         [255, 242, 193]],\n",
       "\n",
       "        [[254, 231, 194],\n",
       "         [240, 213, 182],\n",
       "         [216, 190, 162],\n",
       "         ...,\n",
       "         [255, 255, 214],\n",
       "         [255, 255, 213],\n",
       "         [255, 254, 202]],\n",
       "\n",
       "        [[252, 232, 194],\n",
       "         [245, 223, 188],\n",
       "         [200, 181, 151],\n",
       "         ...,\n",
       "         [255, 254, 202],\n",
       "         [255, 255, 205],\n",
       "         [255, 252, 197]],\n",
       "\n",
       "        ...,\n",
       "\n",
       "        [[105, 101,  93],\n",
       "         [103,  98,  86],\n",
       "         [ 84,  82,  66],\n",
       "         ...,\n",
       "         [ 60,  61,  38],\n",
       "         [ 57,  58,  46],\n",
       "         [ 63,  62,  52]],\n",
       "\n",
       "        [[ 69,  68,  46],\n",
       "         [ 75,  75,  53],\n",
       "         [ 83,  81,  67],\n",
       "         ...,\n",
       "         [ 69,  67,  47],\n",
       "         [ 59,  60,  38],\n",
       "         [ 61,  63,  43]],\n",
       "\n",
       "        [[ 58,  55,  41],\n",
       "         [ 68,  63,  54],\n",
       "         [ 65,  62,  60],\n",
       "         ...,\n",
       "         [ 99,  95,  93],\n",
       "         [ 70,  69,  51],\n",
       "         [ 61,  64,  40]]],\n",
       "\n",
       "\n",
       "       [[[135, 129, 116],\n",
       "         [ 77,  75,  71],\n",
       "         [ 44,  43,  42],\n",
       "         ...,\n",
       "         [255, 252, 206],\n",
       "         [255, 251, 208],\n",
       "         [255, 255, 218]],\n",
       "\n",
       "        [[135, 129, 114],\n",
       "         [ 64,  62,  59],\n",
       "         [ 45,  42,  41],\n",
       "         ...,\n",
       "         [255, 248, 195],\n",
       "         [255, 243, 192],\n",
       "         [254, 234, 187]],\n",
       "\n",
       "        [[129, 123, 108],\n",
       "         [ 53,  51,  49],\n",
       "         [ 46,  43,  41],\n",
       "         ...,\n",
       "         [255, 253, 199],\n",
       "         [255, 241, 186],\n",
       "         [253, 228, 179]],\n",
       "\n",
       "        ...,\n",
       "\n",
       "        [[ 40,  37,  38],\n",
       "         [ 31,  30,  35],\n",
       "         [ 38,  36,  39],\n",
       "         ...,\n",
       "         [ 61,  58,  44],\n",
       "         [ 86,  84,  76],\n",
       "         [115, 117, 114]],\n",
       "\n",
       "        [[ 34,  32,  34],\n",
       "         [ 34,  32,  35],\n",
       "         [ 48,  44,  43],\n",
       "         ...,\n",
       "         [ 94,  90,  88],\n",
       "         [ 93,  89,  87],\n",
       "         [ 90,  87,  81]],\n",
       "\n",
       "        [[ 35,  33,  32],\n",
       "         [ 54,  47,  45],\n",
       "         [ 62,  56,  51],\n",
       "         ...,\n",
       "         [126, 126, 130],\n",
       "         [126, 124, 128],\n",
       "         [107, 105, 104]]],\n",
       "\n",
       "\n",
       "       ...,\n",
       "\n",
       "\n",
       "       [[[247, 218, 201],\n",
       "         [249, 220, 202],\n",
       "         [250, 221, 203],\n",
       "         ...,\n",
       "         [252, 229, 220],\n",
       "         [252, 231, 222],\n",
       "         [254, 233, 225]],\n",
       "\n",
       "        [[247, 218, 199],\n",
       "         [249, 220, 202],\n",
       "         [250, 221, 203],\n",
       "         ...,\n",
       "         [253, 233, 224],\n",
       "         [254, 236, 228],\n",
       "         [253, 233, 225]],\n",
       "\n",
       "        [[252, 224, 205],\n",
       "         [251, 223, 205],\n",
       "         [249, 220, 202],\n",
       "         ...,\n",
       "         [251, 230, 220],\n",
       "         [252, 230, 219],\n",
       "         [249, 227, 216]],\n",
       "\n",
       "        ...,\n",
       "\n",
       "        [[228, 194, 161],\n",
       "         [219, 186, 155],\n",
       "         [223, 188, 155],\n",
       "         ...,\n",
       "         [254, 224, 198],\n",
       "         [243, 212, 185],\n",
       "         [249, 217, 188]],\n",
       "\n",
       "        [[236, 201, 170],\n",
       "         [244, 208, 178],\n",
       "         [248, 213, 184],\n",
       "         ...,\n",
       "         [248, 216, 190],\n",
       "         [243, 212, 187],\n",
       "         [251, 219, 190]],\n",
       "\n",
       "        [[218, 185, 152],\n",
       "         [231, 196, 164],\n",
       "         [235, 202, 172],\n",
       "         ...,\n",
       "         [232, 199, 170],\n",
       "         [234, 203, 178],\n",
       "         [246, 213, 185]]],\n",
       "\n",
       "\n",
       "       [[[ 98,  88,  52],\n",
       "         [106,  92,  57],\n",
       "         [104,  91,  56],\n",
       "         ...,\n",
       "         [ 94,  78,  54],\n",
       "         [ 98,  83,  51],\n",
       "         [113,  97,  60]],\n",
       "\n",
       "        [[112, 101,  66],\n",
       "         [102,  88,  56],\n",
       "         [105,  93,  64],\n",
       "         ...,\n",
       "         [ 72,  62,  52],\n",
       "         [100,  89,  66],\n",
       "         [101,  88,  65]],\n",
       "\n",
       "        [[122, 114,  83],\n",
       "         [115, 105,  75],\n",
       "         [115, 108,  80],\n",
       "         ...,\n",
       "         [101,  96,  80],\n",
       "         [110, 104,  76],\n",
       "         [120, 112,  78]],\n",
       "\n",
       "        ...,\n",
       "\n",
       "        [[255, 235, 214],\n",
       "         [255, 236, 217],\n",
       "         [255, 239, 219],\n",
       "         ...,\n",
       "         [254, 229, 210],\n",
       "         [255, 230, 211],\n",
       "         [253, 229, 210]],\n",
       "\n",
       "        [[255, 239, 220],\n",
       "         [255, 238, 220],\n",
       "         [255, 239, 221],\n",
       "         ...,\n",
       "         [249, 221, 198],\n",
       "         [249, 221, 201],\n",
       "         [247, 217, 200]],\n",
       "\n",
       "        [[255, 239, 224],\n",
       "         [255, 237, 220],\n",
       "         [255, 235, 215],\n",
       "         ...,\n",
       "         [252, 227, 205],\n",
       "         [249, 224, 204],\n",
       "         [252, 226, 206]]],\n",
       "\n",
       "\n",
       "       [[[ 65,  65,  75],\n",
       "         [ 65,  66,  74],\n",
       "         [ 67,  66,  73],\n",
       "         ...,\n",
       "         [ 68,  71,  83],\n",
       "         [ 69,  72,  84],\n",
       "         [ 67,  71,  84]],\n",
       "\n",
       "        [[ 66,  60,  57],\n",
       "         [ 67,  60,  57],\n",
       "         [ 64,  58,  55],\n",
       "         ...,\n",
       "         [ 66,  69,  79],\n",
       "         [ 67,  69,  80],\n",
       "         [ 69,  71,  81]],\n",
       "\n",
       "        [[ 70,  63,  59],\n",
       "         [ 72,  65,  61],\n",
       "         [ 71,  64,  59],\n",
       "         ...,\n",
       "         [ 73,  72,  81],\n",
       "         [ 67,  68,  77],\n",
       "         [ 62,  65,  75]],\n",
       "\n",
       "        ...,\n",
       "\n",
       "        [[ 87,  73,  63],\n",
       "         [101,  84,  71],\n",
       "         [ 91,  76,  64],\n",
       "         ...,\n",
       "         [ 35,  30,  29],\n",
       "         [ 29,  27,  28],\n",
       "         [ 28,  26,  27]],\n",
       "\n",
       "        [[ 87,  74,  64],\n",
       "         [ 97,  82,  71],\n",
       "         [ 99,  82,  68],\n",
       "         ...,\n",
       "         [ 26,  22,  21],\n",
       "         [ 34,  29,  28],\n",
       "         [ 31,  28,  28]],\n",
       "\n",
       "        [[ 76,  66,  58],\n",
       "         [ 75,  66,  60],\n",
       "         [ 92,  80,  71],\n",
       "         ...,\n",
       "         [ 19,  16,  14],\n",
       "         [ 23,  18,  17],\n",
       "         [ 21,  17,  16]]]], dtype=uint8)"
      ]
     },
     "execution_count": 6,
     "metadata": {
      "tags": []
     },
     "output_type": "execute_result"
    }
   ],
   "source": [
    "def split(images_list):\n",
    "    images, labels = zip(*images_list)\n",
    "    # ubah images dan labels masing-masing menjadi array dan namakan X dan Y\n",
    "    X = np.array(images)\n",
    "    Y = np.array(labels)\n",
    "    return X, Y  \n",
    "\n",
    "train_set_x_orig, train_set_y = split(labeled_images)\n",
    "train_set_x_orig"
   ]
  },
  {
   "cell_type": "code",
   "execution_count": 7,
   "metadata": {
    "colab": {
     "base_uri": "https://localhost:8080/"
    },
    "id": "lzVMHu4TjehM",
    "outputId": "087eab90-71ad-4dbd-e7e6-7d04a3f76d70"
   },
   "outputs": [
    {
     "name": "stdout",
     "output_type": "stream",
     "text": [
      "Number of training examples: m_train = 1027\n",
      "Height/Width of each image: num_px = 64\n",
      "Each image is of size: (64, 64, 4)\n",
      "train_set_x shape: (1027, 64, 64, 3)\n",
      "train_set_y shape: (1027,)\n"
     ]
    }
   ],
   "source": [
    "m_train = len(train_set_x_orig)\n",
    "num_px = train_set_x_orig[0].shape[0]\n",
    "\n",
    "print (\"Number of training examples: m_train = \" + str(m_train))\n",
    "print (\"Height/Width of each image: num_px = \" + str(num_px))\n",
    "print (\"Each image is of size: (\" + str(num_px) + \", \" + str(num_px) + \", 4)\")\n",
    "print (\"train_set_x shape: \" + str(train_set_x_orig.shape))\n",
    "print (\"train_set_y shape: \" + str(train_set_y.shape))"
   ]
  },
  {
   "cell_type": "code",
   "execution_count": 8,
   "metadata": {
    "colab": {
     "base_uri": "https://localhost:8080/"
    },
    "id": "vuRcw6Dxjgpi",
    "outputId": "b9996844-42f4-447a-f3f5-219ad95442cb"
   },
   "outputs": [
    {
     "name": "stdout",
     "output_type": "stream",
     "text": [
      "[140  40 104 ... 185 206  16]\n",
      "train_set_x_flatten shape: (12288, 1027)\n",
      "train_set_y shape: (1, 1027)\n"
     ]
    }
   ],
   "source": [
    "train_set_x_flatten = train_set_x_orig.reshape(train_set_x_orig.shape[0], -1).T \n",
    "print(train_set_x_flatten[-1])\n",
    "train_y = np.expand_dims(train_set_y, 0)\n",
    "\n",
    "print (\"train_set_x_flatten shape: \" + str(train_set_x_flatten.shape))\n",
    "print (\"train_set_y shape: \" + str(train_y.shape))"
   ]
  },
  {
   "cell_type": "code",
   "execution_count": 9,
   "metadata": {
    "id": "kTFBzWhEji8e"
   },
   "outputs": [],
   "source": [
    "# normalize\n",
    "train_x = train_set_x_flatten/255."
   ]
  },
  {
   "cell_type": "code",
   "execution_count": 10,
   "metadata": {
    "id": "SRGA6G7AjlnO"
   },
   "outputs": [],
   "source": [
    "%%capture\n",
    "!wget https://storage.googleapis.com/laurencemoroney-blog.appspot.com/validation-horse-or-human.zip\n",
    "!unzip \\*.zip -d test  && rm *.zip;"
   ]
  },
  {
   "cell_type": "code",
   "execution_count": 11,
   "metadata": {
    "id": "hRlIc9e3jlqW"
   },
   "outputs": [],
   "source": [
    "test_set_x_orig, test_set_y = split(obtain_images_data('/content/test/'))\n",
    "test_set_x_flatten = test_set_x_orig.reshape(test_set_x_orig.shape[0], -1).T\n",
    "test_y = np.expand_dims(test_set_y, 0)\n",
    "# normalize\n",
    "test_x = test_set_x_flatten/255."
   ]
  },
  {
   "cell_type": "code",
   "execution_count": 15,
   "metadata": {
    "colab": {
     "base_uri": "https://localhost:8080/"
    },
    "id": "PKlJfHUojluA",
    "outputId": "370ee6d5-d7a6-4962-9126-d872707fba65"
   },
   "outputs": [
    {
     "data": {
      "text/plain": [
       "(1027, 12288)"
      ]
     },
     "execution_count": 15,
     "metadata": {
      "tags": []
     },
     "output_type": "execute_result"
    }
   ],
   "source": [
    "test_set_x_orig.shape\n",
    "train_x.T.shape"
   ]
  },
  {
   "cell_type": "markdown",
   "metadata": {
    "id": "AhJBGW2Pi0Ph"
   },
   "source": [
    "## Tugas"
   ]
  },
  {
   "cell_type": "markdown",
   "metadata": {
    "id": "Atrwl_RWi0gX"
   },
   "source": [
    "1. Buat dan latih ulang model NN pada praktikum 4 (klasifikasi gambar kuda dan manusia), dengan hidden layer yang custom dan tidak menggunakan konvolusi.\n",
    "\n",
    "2. Buat dan latih model sembarang secara bebas, bisa RNN, CNN, dll. Untuk penggunaan layernya bisa baca di dokumentasi Tensorflow.\n",
    "\n",
    "Catatan:\n",
    "1. Gunakan Tensorflow Low-Level atau Mid-Level API (dilarang pakai Hi-Level!)\n",
    "2. Kode harus dalam bentuk OOP"
   ]
  },
  {
   "cell_type": "markdown",
   "metadata": {
    "id": "RztrpnZdi-1i"
   },
   "source": [
    "### Tugas 1 : Model DNN dengan Tensorflow"
   ]
  },
  {
   "cell_type": "code",
   "execution_count": 73,
   "metadata": {
    "id": "nZa8OkYEi9vw"
   },
   "outputs": [],
   "source": [
    "class DNN:\n",
    "  def __init__(self, X, Y, layers_dims, learning_rate = 0.0075, num_iterations = 1000):\n",
    "    self.X, self.y = X, Y\n",
    "    self.layers_dims = layers_dims\n",
    "    self.lr = learning_rate\n",
    "    self.num_iter = num_iterations\n",
    "\n",
    "    w_init = tf.random_normal_initializer()\n",
    "    b_init = tf.zeros_initializer()\n",
    "\n",
    "    self.parameters = {}\n",
    "    L = len(self.layers_dims)       \n",
    "    \n",
    "    #inisiasi model\n",
    "    self.hidden_layer=[]\n",
    "    for i in range(L):\n",
    "      self.hidden_layer.append(tf.keras.layers.Dense(units=self.layers_dims[i], name='HL'+str(i), activation='relu'))\n",
    "    \n",
    "    self.output_layer = tf.keras.layers.Dense(units=1, name='OL', activation='sigmoid')\n",
    "\n",
    "    # definisikan alur dari jaringannya\n",
    "    self.output_HL=[]\n",
    "    self.input = tf.keras.Input(tf.shape(self.X[0],), name='input')\n",
    "    #input HL pertama\n",
    "    self.output_HL.append(self.hidden_layer[0](self.input))\n",
    "    #input HL kedua hingga terakhir\n",
    "    for i in range(1, L):\n",
    "      self.output_HL.append(self.hidden_layer[i](self.output_HL[i-1]))\n",
    "    #input OL   \n",
    "    self.output = self.output_layer(self.output_HL[-1])\n",
    "\n",
    "    # definisikan jaringannya dengan input dan output\n",
    "    self.network = tf.keras.Model(inputs=self.input, outputs=self.output)\n",
    "\n",
    "  def train(self):\n",
    "\n",
    "    # definsikan optimizer, kali ini akan digunakan Stochastic Gradient Descent\n",
    "    optimizer = tf.keras.optimizers.SGD(lr=self.lr)\n",
    "    # definisikan fungsi loss yang digunakan\n",
    "    self.loss_fn = tf.keras.losses.BinaryCrossentropy()\n",
    "    # definisikan metrik yang digunakan\n",
    "    self.metric_fn = tf.keras.metrics.binary_accuracy \n",
    "\n",
    "    # iterasi\n",
    "    self.costs=[]\n",
    "    for i in range(self.num_iter):\n",
    "        with tf.GradientTape() as tape:\n",
    "            # forward propagation\n",
    "            self.y_out = self.network(self.X, training=True)\n",
    "            self.loss = self.loss_fn(self.y, self.y_out)\n",
    "        # backward propagation\n",
    "        grads = tape.gradient(self.loss, self.network.trainable_weights)\n",
    "        # optimize\n",
    "        optimizer.apply_gradients(zip(grads, self.network.trainable_weights))\n",
    "        # hitung akurasi\n",
    "        accuracy = self.metric_fn(self.y, self.y_out)\n",
    "        # akurasi yang dihitung masih per data, jadi kita rata-rata dulu semuanya\n",
    "        self.accuracy = tf.reduce_mean(accuracy)\n",
    "        # cetak log\n",
    "        if i % (self.num_iter // 10) == 0:\n",
    "            print (f\"Iteration {i} - Loss: {self.loss}; Acc: {self.accuracy*100}\")\n",
    "            self.costs.append(self.loss)\n",
    "\n",
    "  def plot(self):\n",
    "    plt.plot(np.squeeze(self.costs))\n",
    "    plt.ylabel('cost')\n",
    "    plt.xlabel('iterasi (per 100)')\n",
    "    plt.title(\"Learning rate =\" + str(self.lr))\n",
    "    plt.show()\n",
    "\n",
    "  def predict(self, x, y):\n",
    "    #forward propagation\n",
    "    with tf.GradientTape() as tape:\n",
    "        # forward propagation\n",
    "        y_out = self.network(x, training=True)\n",
    "        p_loss = self.loss_fn(y, y_out)\n",
    "    #hitung akurasi\n",
    "    p_accuracy = tf.reduce_mean(self.metric_fn(y, y_out))\n",
    "\n",
    "\n",
    "    print(\"Accuracy: \"  + str(p_accuracy.numpy()*100) + \" - Loss prediksi:  \" + str(p_loss.numpy()))\n"
   ]
  },
  {
   "cell_type": "code",
   "execution_count": 74,
   "metadata": {
    "colab": {
     "base_uri": "https://localhost:8080/",
     "height": 406
    },
    "id": "qVvXv-8nlN_E",
    "outputId": "222bc472-867c-44dd-fa0d-5db882a1c21b"
   },
   "outputs": [
    {
     "name": "stdout",
     "output_type": "stream",
     "text": [
      "Model: \"model_16\"\n",
      "_________________________________________________________________\n",
      "Layer (type)                 Output Shape              Param #   \n",
      "=================================================================\n",
      "input (InputLayer)           [(None, 12288)]           0         \n",
      "_________________________________________________________________\n",
      "HL0 (Dense)                  (None, 20)                245780    \n",
      "_________________________________________________________________\n",
      "HL1 (Dense)                  (None, 7)                 147       \n",
      "_________________________________________________________________\n",
      "HL2 (Dense)                  (None, 5)                 40        \n",
      "_________________________________________________________________\n",
      "OL (Dense)                   (None, 1)                 6         \n",
      "=================================================================\n",
      "Total params: 245,973\n",
      "Trainable params: 245,973\n",
      "Non-trainable params: 0\n",
      "_________________________________________________________________\n"
     ]
    },
    {
     "data": {
      "image/png": "[encoded data removed]",
      "text/plain": [
       "<IPython.core.display.Image object>"
      ]
     },
     "execution_count": 74,
     "metadata": {
      "tags": []
     },
     "output_type": "execute_result"
    }
   ],
   "source": [
    "hidden_neurons = [20, 7, 5] # tentukan banyaknya layers dan banyaknya neuron di setiap hidden layer\n",
    "layers_dims =  hidden_neurons \n",
    "DNN1 = DNN(train_x.T, train_y.T, layers_dims, learning_rate = 0.0075, num_iterations = 1001)\n",
    "DNN1.network.summary()\n",
    "tf.keras.utils.plot_model(DNN1.network, show_shapes=True, rankdir='LR')"
   ]
  },
  {
   "cell_type": "code",
   "execution_count": 75,
   "metadata": {
    "colab": {
     "base_uri": "https://localhost:8080/",
     "height": 480
    },
    "id": "ya6_t-CWmWki",
    "outputId": "23e42123-f209-48ca-f0d6-62c011fc3cee"
   },
   "outputs": [
    {
     "name": "stdout",
     "output_type": "stream",
     "text": [
      "Iteration 0 - Loss: 0.6981863379478455; Acc: 48.685489654541016\n",
      "Iteration 100 - Loss: 0.5840833783149719; Acc: 65.72541809082031\n",
      "Iteration 200 - Loss: 0.4318922758102417; Acc: 79.84420776367188\n",
      "Iteration 300 - Loss: 0.35520511865615845; Acc: 83.64167022705078\n",
      "Iteration 400 - Loss: 0.3019099235534668; Acc: 86.1733169555664\n",
      "Iteration 500 - Loss: 0.25017619132995605; Acc: 89.67867279052734\n",
      "Iteration 600 - Loss: 0.26932665705680847; Acc: 88.02336883544922\n",
      "Iteration 700 - Loss: 0.14897261559963226; Acc: 95.6183090209961\n",
      "Iteration 800 - Loss: 0.1595674753189087; Acc: 94.54722595214844\n",
      "Iteration 900 - Loss: 0.14687517285346985; Acc: 97.56571960449219\n",
      "Iteration 1000 - Loss: 0.08437372744083405; Acc: 98.14994812011719\n"
     ]
    },
    {
     "data": {
      "image/png": "[encoded data removed]",
      "text/plain": [
       "<Figure size 432x288 with 1 Axes>"
      ]
     },
     "metadata": {
      "needs_background": "light",
      "tags": []
     },
     "output_type": "display_data"
    }
   ],
   "source": [
    "DNN1.train()\n",
    "DNN1.plot()"
   ]
  },
  {
   "cell_type": "code",
   "execution_count": 76,
   "metadata": {
    "colab": {
     "base_uri": "https://localhost:8080/"
    },
    "id": "ixPifmirogN_",
    "outputId": "107e2d2a-5740-400a-fe39-f27da7061a94"
   },
   "outputs": [
    {
     "name": "stdout",
     "output_type": "stream",
     "text": [
      "Accuracy: 88.28125 - Loss prediksi:  0.40513057\n"
     ]
    }
   ],
   "source": [
    "DNN1.predict(test_x.T, test_y.T)"
   ]
  },
  {
   "cell_type": "markdown",
   "metadata": {
    "id": "2o9_eaMEvMFx"
   },
   "source": [
    "### Tugas 2 Model RNN dengan Tensorflow"
   ]
  },
  {
   "cell_type": "markdown",
   "metadata": {
    "id": "ZTDeW60DRMt_"
   },
   "source": [
    "Pada tugas 2 ini akan dibuat model RNN yang diberikan pada kelas kuliah dengan menggunakan library tensorflow"
   ]
  },
  {
   "cell_type": "code",
   "execution_count": 141,
   "metadata": {
    "id": "3kINDr2Ps01B"
   },
   "outputs": [],
   "source": [
    "#menggunakan low level\n",
    "class RNN:\n",
    "  def __init__(self,x,nh,alpha,epochs):\n",
    "    self.Xtrain  = x #input\n",
    "    self.ytrain  = x[:,-1:] #output \n",
    "    self.nh = nh\n",
    "    self.α= alpha\n",
    "    self.epochs = epochs\n",
    "    self.Ts = tf.shape(self.Xtrain)[1]-1   # Time-steps\n",
    "    self.N, self.no = tf.shape(self.ytrain)     #jumlah observasi (self.N) dan jumlah output\n",
    "    self.ni    = 1  #jumlah input\n",
    "\n",
    "    \"Inisialisasi param dabn b\"\n",
    "    init = tf.random_normal_initializer()\n",
    "    self.w0 = tf.Variable(init(shape=(self.ni,self.nh), dtype='float32'))\n",
    "    self.w1 = tf.Variable(init(shape=(self.nh,self.no), dtype='float32'))\n",
    "    self.ws = tf.Variable(init(shape=(self.nh,self.nh), dtype='float32'))\n",
    "    self.b0 = tf.Variable(init(shape=(1,self.nh), dtype='float32'))\n",
    "    self.b1 = tf.Variable(init(shape=(1,self.no), dtype='float32'))\n",
    "\n",
    "    print(\"Init param success\")\n",
    "    \"Pendefinisian optimizer\"\n",
    "    self.optimizer = tf.keras.optimizers.SGD(lr=self.α)\n",
    "    self.metric_fn = tf.keras.metrics.MeanSquaredError()\n",
    "    self.zero_init = tf.zeros_initializer()\n",
    "\n",
    "  def learning(self):\n",
    "    \"inisialisasi tensor hasil dan error\"\n",
    "    self.ycap = []\n",
    "\n",
    "    with tf.GradientTape() as tape:\n",
    "      for i in  range(len(self.Xtrain)):\n",
    "        self.S1 = [tf.Variable(self.zero_init(shape=(self.ni,self.nh), dtype='float32'))]\n",
    "        self.S2 = []\n",
    "\n",
    "        \"forward propagation\"\n",
    "        for k in range(self.Ts):\n",
    "          \"initial param\"\n",
    "          A0 = self.Xtrain[i,k]\n",
    "          yk = self.Xtrain[i,k+1]\n",
    "          \"input to hidden layer\"\n",
    "          Z1 = A0 * self.w0 +self.b0 + tf.matmul(self.S1[-1], self.ws)\n",
    "          A1 = tf.math.tanh(Z1)\n",
    "          self.S1.append(tf.identity(A1))\n",
    "          \"hidden to output layer\"\n",
    "          Z2 = tf.matmul(A1, self.w1) + self.b1\n",
    "          A2 = tf.nn.sigmoid(Z2)\n",
    "          self.S2.append(tf.identity(A2))\n",
    "\n",
    "        \"append hasil pada variabel\"\n",
    "        self.ycap.append(A2[0])\n",
    "        #print(\"forward selesai\")\n",
    "  \n",
    "      self.cost = tf.keras.losses.MSE(self.ytrain, self.ycap)\n",
    "      self.cost = tf.reduce_mean(self.cost)\n",
    "      #print(\"cost dihitung\")\n",
    "\n",
    "    self.dw0, self.dw1,self.dws,self.db0, self.db1 = tape.gradient(self.cost, (self.w0,self.w1,self.ws,self.b0,self.b1))\n",
    "    # optimize\n",
    "    self.optimizer.apply_gradients(zip((self.dw0, self.dw1,self.dws,self.db0, self.db1), (self.w0,self.w1,self.ws,self.b0,self.b1)))\n",
    "    # hitung akurasi\n",
    "    #print(\"parameter berhasil diopitmisasi\")\n",
    "    #accuracy = self.metric_fn(self.train, self.ycap)\n",
    "    # akurasi yang dihitung masih per data, jadi kita rata-rata dulu semuanya\n",
    "    #print(self.cost)\n",
    "    #self.accuracy = tf.reduce_mean(accuracy)\n",
    "\n",
    "  def train(self):\n",
    "    self.costs =[]\n",
    "    self.accs = []\n",
    "    for n in range(self.epochs):\n",
    "      self.learning()\n",
    "\n",
    "      if n % ((self.epochs-1)/5) == 0:\n",
    "        self.costs.append(self.cost)\n",
    "        #self.accs.append(self.accuracy)\n",
    "        print(f\"Epoch ke {n}, MSE sebesar: {self.cost:6.5f} \")\n",
    "        \n",
    "      #print(self.ycap.shape)\n",
    "      #print(self.ytrain.shape)\n",
    "\n",
    "    plt.plot(self.Xtrain[:, -1:], label = 'actual series')\n",
    "    plt.plot(self.ycap, label = 'predicted series')\n",
    "    plt.legend()\n",
    "    plt.show()\n",
    "\n",
    "  def test(self, Xtest, ytest):\n",
    "    \"inisialisasi tensor hasil dan error\"\n",
    "    ycap = []\n",
    "    for i in  range(len(Xtest)):\n",
    "      S1 = [tf.Variable(self.zero_init(shape=(self.ni,self.nh), dtype='float32'))]\n",
    "      S2 = []\n",
    "\n",
    "      \"forward propagation\"\n",
    "      for k in range(self.Ts):\n",
    "        \"initial param\"\n",
    "        A0 = Xtest[i,k]\n",
    "        yk = Xtest[i,k+1]\n",
    "        \"input to hidden layer\"\n",
    "        Z1 = A0 * self.w0 +self.b0 + tf.matmul(self.S1[-1], self.ws)\n",
    "        A1 = tf.math.tanh(Z1)\n",
    "        S1.append(tf.identity(A1))\n",
    "        \"hidden to output layer\"\n",
    "        Z2 = tf.matmul(A1, self.w1) + self.b1\n",
    "        A2 = tf.nn.sigmoid(Z2)\n",
    "        S2.append(tf.identity(A2))\n",
    "\n",
    "      \"append hasil pada variabel\"\n",
    "      ycap.append(A2[0])\n",
    "      #print(\"forward selesai\")\n",
    "  \n",
    "    cost = tf.keras.losses.MSE(ytest, ycap)\n",
    "    cost = tf.reduce_mean(cost)\n",
    "    print('\\n\\nMSE testing : %7.7f'%cost)\n",
    "          \n",
    "    plt.plot(ytest, label = 'actual series')\n",
    "    plt.plot(ycap, label = 'predicted series')\n",
    "    plt.legend()\n",
    "    plt.show()    \n",
    "\n"
   ]
  },
  {
   "cell_type": "code",
   "execution_count": 62,
   "metadata": {
    "colab": {
     "base_uri": "https://localhost:8080/"
    },
    "id": "erseNBHRr3QW",
    "outputId": "8160874d-d479-4970-a747-589b3a5655d9"
   },
   "outputs": [
    {
     "name": "stderr",
     "output_type": "stream",
     "text": [
      "/usr/local/lib/python3.7/dist-packages/ipykernel_launcher.py:13: SettingWithCopyWarning: \n",
      "A value is trying to be set on a copy of a slice from a DataFrame\n",
      "\n",
      "See the caveats in the documentation: https://pandas.pydata.org/pandas-docs/stable/user_guide/indexing.html#returning-a-view-versus-a-copy\n",
      "  del sys.path[0]\n"
     ]
    }
   ],
   "source": [
    "\"Time step (ts)\"\n",
    "def steps(x, step):   \n",
    "    obs  = len(x)-step\n",
    "    xt   = x[:obs,:]\n",
    "    for i in np.arange(1,step+1):\n",
    "        xt = np.hstack((xt, x[i:obs+i,:]))   \n",
    "    return xt\n",
    "\"Pengisian nilai kosong atau missing value pada data\"\n",
    " #Data time series harian harga saham Bank Mandiri sejak 02 Januari 2015\n",
    "A  = pd.read_csv('/content/BMRI.JK.csv') \n",
    "A_fillna = A['Adj Close']\n",
    "A_fillna[A_fillna.isnull()]\n",
    "A_fillna[1127] = (A_fillna[1126]+A_fillna[1128])*0.5"
   ]
  },
  {
   "cell_type": "code",
   "execution_count": 63,
   "metadata": {
    "id": "NWt4CNOJfeew"
   },
   "outputs": [],
   "source": [
    "\"Pembagian data latih dan data uji\"\n",
    "A6 = A_fillna.values   #Ambil kolom ke enam berisi 'Adj Close', \n",
    "B  = A6[:,np.newaxis]  \n",
    "                                     \n",
    "Bmin = min(B)\n",
    "Bmax = max(B)\n",
    "b = (B-Bmin)/(Bmax-Bmin)\n",
    "\n",
    "ts = 1   #Di literatur Time Series digunakan istilah 'lag' sebagai padanan istilah 'timestep' ini\n",
    "xs = steps(b, ts)  #Dihasilkan matriks dengan 2 (= ts+1) kolom, kolom pertama menjadi variabel X\n",
    "                   #dan kolom terkhir menjadi variabel \n",
    "x = xs[-800:,:]    #Ambil 800 observasi terakhir\n",
    "\n",
    "#Data untuk training\n",
    "Xtrain = x[0:680,:]   #Ambil 680 observasi yang pertama dan hilangkan kolom terakhir\n",
    "ytrain = x[0:680:, -1:]  #Ambil 680 observasi yang pertama dan ambil kolom terakhir sebagai variabel y \n",
    "\n",
    "#Data untuk testing\n",
    "Xtest = x[680:, :]   #ambil jumlah observasi sebanyak 120, hilangkan kolom terakhir (untuk y)\n",
    "ytest = x[680:, -1:] #ambil kolom terakhir"
   ]
  },
  {
   "cell_type": "code",
   "execution_count": 147,
   "metadata": {
    "colab": {
     "base_uri": "https://localhost:8080/",
     "height": 382
    },
    "id": "3Po5XYpinTfS",
    "outputId": "126f6c0c-a1cc-4277-f79d-53ecfba128f3"
   },
   "outputs": [
    {
     "name": "stdout",
     "output_type": "stream",
     "text": [
      "Init param success\n",
      "Epoch ke 0, MSE sebesar: 0.07717 \n",
      "Epoch ke 16, MSE sebesar: 0.02951 \n",
      "Epoch ke 32, MSE sebesar: 0.02401 \n",
      "Epoch ke 48, MSE sebesar: 0.01085 \n",
      "Epoch ke 64, MSE sebesar: 0.00277 \n",
      "Epoch ke 80, MSE sebesar: 0.00143 \n"
     ]
    },
    {
     "data": {
      "image/png": "[encoded data removed]",
      "text/plain": [
       "<Figure size 432x288 with 1 Axes>"
      ]
     },
     "metadata": {
      "needs_background": "light",
      "tags": []
     },
     "output_type": "display_data"
    }
   ],
   "source": [
    "#Ringkasan nh = 3, alpha = 0.27 epochs = 36, ts = 1\n",
    "\n",
    "nh     = 3  \n",
    "alpha  = 5\n",
    "epochs = 81\n",
    "\n",
    "\"Training\"\n",
    "tf.random.set_seed(7399)\n",
    "rnn1 = RNN(Xtrain,nh,alpha,epochs)\n",
    "rnn1.train()"
   ]
  },
  {
   "cell_type": "code",
   "execution_count": 148,
   "metadata": {
    "colab": {
     "base_uri": "https://localhost:8080/",
     "height": 317
    },
    "id": "yo5kxbf1n3sK",
    "outputId": "0ace8913-0222-4fc3-82c5-58cd0f36a4f2"
   },
   "outputs": [
    {
     "name": "stdout",
     "output_type": "stream",
     "text": [
      "\n",
      "\n",
      "MSE testing : 0.0012612\n"
     ]
    },
    {
     "data": {
      "image/png": "[encoded data removed]",
      "text/plain": [
       "<Figure size 432x288 with 1 Axes>"
      ]
     },
     "metadata": {
      "needs_background": "light",
      "tags": []
     },
     "output_type": "display_data"
    }
   ],
   "source": [
    "rnn1.test(Xtest, ytest)"
   ]
  },
  {
   "cell_type": "code",
   "execution_count": null,
   "metadata": {
    "id": "gtP2IyTnyKtD"
   },
   "outputs": [],
   "source": []
  }
 ],
 "metadata": {
  "colab": {
   "collapsed_sections": [],
   "name": "P7 - 13217089.ipynb",
   "provenance": []
  },
  "kernelspec": {
   "display_name": "Python 3",
   "name": "python3"
  },
  "language_info": {
   "name": "python"
  }
 },
 "nbformat": 4,
 "nbformat_minor": 0
}
